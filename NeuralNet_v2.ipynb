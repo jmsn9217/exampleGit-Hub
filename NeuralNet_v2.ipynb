{
 "cells": [
  {
   "cell_type": "code",
   "execution_count": 2,
   "metadata": {},
   "outputs": [
    {
     "ename": "ModuleNotFoundError",
     "evalue": "No module named 'sklearn'",
     "output_type": "error",
     "traceback": [
      "\u001b[1;31m---------------------------------------------------------------------------\u001b[0m",
      "\u001b[1;31mModuleNotFoundError\u001b[0m                       Traceback (most recent call last)",
      "Cell \u001b[1;32mIn[2], line 1\u001b[0m\n\u001b[1;32m----> 1\u001b[0m \u001b[39mfrom\u001b[39;00m \u001b[39msklearn\u001b[39;00m\u001b[39m.\u001b[39;00m\u001b[39mneural_network\u001b[39;00m \u001b[39mimport\u001b[39;00m MLPClassifier\n\u001b[0;32m      2\u001b[0m \u001b[39mfrom\u001b[39;00m \u001b[39msklearn\u001b[39;00m\u001b[39m.\u001b[39;00m\u001b[39mmodel_selection\u001b[39;00m \u001b[39mimport\u001b[39;00m train_test_split\n\u001b[0;32m      3\u001b[0m \u001b[39mimport\u001b[39;00m \u001b[39mre\u001b[39;00m\n",
      "\u001b[1;31mModuleNotFoundError\u001b[0m: No module named 'sklearn'"
     ]
    }
   ],
   "source": [
    "from sklearn.neural_network import MLPClassifier\n",
    "from sklearn.model_selection import train_test_split\n",
    "import re\n",
    "import numpy as np\n",
    "import pandas as pd\n",
    "import matplotlib.pyplot as plt\n",
    "from sklearn.model_selection import train_test_split\n",
    "from sklearn.feature_extraction.text import CountVectorizer\n",
    "from sklearn.metrics import classification_report, confusion_matrix, accuracy_score, ConfusionMatrixDisplay\n",
    "from nltk.stem import WordNetLemmatizer\n",
    "from sklearn.preprocessing import StandardScalar\n",
    "from sklearn.model_selection import GridSearchCV\n",
    "\n"
   ]
  },
  {
   "cell_type": "code",
   "execution_count": 2,
   "metadata": {},
   "outputs": [
    {
     "name": "stdout",
     "output_type": "stream",
     "text": [
      "(1989,)\n"
     ]
    }
   ],
   "source": [
    "# load the data and preprocess\n",
    "data = pd.read_csv(\n",
    "    'C:\\\\Users\\\\Joshua\\\\Downloads\\\\archive\\\\Combined_News_DJIA.csv')\n",
    "data.drop('Date', axis=1, inplace=True)\n",
    "#print(data.head())\n",
    "# create an array for the labels\n",
    "target = np.array(data['Label'].values)\n",
    "print(target.shape)\n"
   ]
  },
  {
   "cell_type": "code",
   "execution_count": 3,
   "metadata": {},
   "outputs": [
    {
     "data": {
      "image/png": "[encoded data removed]",
      "text/plain": [
       "<Figure size 432x432 with 1 Axes>"
      ]
     },
     "metadata": {},
     "output_type": "display_data"
    }
   ],
   "source": [
    "# create an array for the text\n",
    "text = []\n",
    "lemmatizer = WordNetLemmatizer()\n",
    "for index, row in data.iterrows():\n",
    "    # create an array for the headlines\n",
    "    headlines = np.array(row[1:])\n",
    "\n",
    "    # remove common garbage\n",
    "    headlines = str(headlines).replace(\"__\", \"\").replace(\"b\\\\\", \"\").replace('b\"', '').replace(\n",
    "        \"b'\", \"\").replace('\"', '').replace(\"'\", \"\").replace('\\\\', '').replace(\"amp\", \"\").replace(\"aa\", \"\")\n",
    "\n",
    "    # remove non alphabetic characters\n",
    "    headlines = re.sub('[^A-Za-z]+', ' ', headlines)\n",
    "\n",
    "    # lemmatize\n",
    "    headlines = headlines.split()\n",
    "    headlines = [lemmatizer.lemmatize(word) for word in headlines]\n",
    "    headlines = ' '.join(headlines)\n",
    "\n",
    "    #print(headlines)\n",
    "    text.append(headlines)\n",
    "\n",
    "# create new df\n",
    "df = pd.DataFrame({'Label': target, 'Text': text})\n",
    "df.head(20)\n",
    "#df.tail(20)\n",
    "df['Label'].value_counts().plot.pie(figsize=(6, 6),\n",
    "                                    title=\"Percentage of News Headlines per DJIA Movement\", labels=['', ''], autopct='%1.1f%%')\n",
    "labels = [\"Increase\", \"Decrease\"]\n",
    "plt.legend(labels, loc=3)\n",
    "plt.gca().set_aspect('equal')\n"
   ]
  },
  {
   "cell_type": "code",
   "execution_count": 4,
   "metadata": {},
   "outputs": [
    {
     "name": "stdout",
     "output_type": "stream",
     "text": [
      "[[0 0 0 ... 0 0 0]\n",
      " [0 0 0 ... 0 0 0]\n",
      " [0 0 0 ... 0 0 0]\n",
      " ...\n",
      " [0 0 0 ... 0 0 0]\n",
      " [0 0 0 ... 0 0 0]\n",
      " [1 0 1 ... 0 0 0]]\n",
      "(1989, 408693)\n",
      "(1989,)\n"
     ]
    },
    {
     "data": {
      "text/plain": [
       "array(['aa aa', 'aa aaa', 'aa india', ..., 'zweimal hitler', 'zygi naval',\n",
       "       'zyklon deadly'], dtype=object)"
      ]
     },
     "execution_count": 4,
     "metadata": {},
     "output_type": "execute_result"
    }
   ],
   "source": [
    "# Create bag of words\n",
    "count = CountVectorizer(ngram_range=(2, 2), stop_words='english')\n",
    "bag_of_words = count.fit_transform(df['Text'])\n",
    "\n",
    "# Create feature matrix\n",
    "features = bag_of_words.toarray()\n",
    "\n",
    "target = df['Label']\n",
    "print(features)\n",
    "print(features.shape)\n",
    "print(target.shape)\n",
    "#print(target)\n",
    "count.get_feature_names_out()\n",
    "#print(text[0])\n",
    "#print('number of training samples: ' + str(len(data.index)))\n"
   ]
  },
  {
   "cell_type": "code",
   "execution_count": 5,
   "metadata": {},
   "outputs": [
    {
     "name": "stdout",
     "output_type": "stream",
     "text": [
      "[[0 0 0 ... 0 0 0]\n",
      " [0 0 0 ... 0 0 0]\n",
      " [0 0 0 ... 0 0 0]\n",
      " ...\n",
      " [0 0 0 ... 0 0 0]\n",
      " [0 0 0 ... 0 0 0]\n",
      " [1 0 1 ... 0 0 0]]\n",
      "0       0\n",
      "1       1\n",
      "2       0\n",
      "3       0\n",
      "4       1\n",
      "       ..\n",
      "1984    0\n",
      "1985    1\n",
      "1986    1\n",
      "1987    1\n",
      "1988    1\n",
      "Name: Label, Length: 1989, dtype: int64\n"
     ]
    }
   ],
   "source": [
    "\n",
    "# split data set\n",
    "x = features\n",
    "print(x)\n",
    "y = target\n",
    "print(y)\n",
    "x_train, x_test, y_train, y_test = train_test_split(x, y, stratify=y, shuffle=True, test_size=0.33,\n",
    "                                                    random_state=1)"
   ]
  },
  {
   "cell_type": "code",
   "execution_count": null,
   "metadata": {},
   "outputs": [],
   "source": [
    "# scale data\n",
    "standard_scalar = StandardScalar().fit(x_train)\n",
    "x_train_scaled = standard_scalar.transform(x_train)\n",
    "x_test_scaled = standard_scalar.transform(x_test)"
   ]
  },
  {
   "cell_type": "code",
   "execution_count": 6,
   "metadata": {},
   "outputs": [
    {
     "name": "stderr",
     "output_type": "stream",
     "text": [
      "c:\\Users\\Joshua\\anaconda3\\lib\\site-packages\\sklearn\\neural_network\\_multilayer_perceptron.py:692: ConvergenceWarning: Stochastic Optimizer: Maximum iterations (200) reached and the optimization hasn't converged yet.\n",
      "  warnings.warn(\n"
     ]
    },
    {
     "name": "stdout",
     "output_type": "stream",
     "text": [
      "0.5357686453576864\n",
      "0.5357686453576864\n",
      "[[  0 305]\n",
      " [  0 352]]\n",
      "              precision    recall  f1-score   support\n",
      "\n",
      "           0       0.00      0.00      0.00       305\n",
      "           1       0.54      1.00      0.70       352\n",
      "\n",
      "    accuracy                           0.54       657\n",
      "   macro avg       0.27      0.50      0.35       657\n",
      "weighted avg       0.29      0.54      0.37       657\n",
      "\n"
     ]
    },
    {
     "name": "stderr",
     "output_type": "stream",
     "text": [
      "c:\\Users\\Joshua\\anaconda3\\lib\\site-packages\\sklearn\\metrics\\_classification.py:1318: UndefinedMetricWarning: Precision and F-score are ill-defined and being set to 0.0 in labels with no predicted samples. Use `zero_division` parameter to control this behavior.\n",
      "  _warn_prf(average, modifier, msg_start, len(result))\n",
      "c:\\Users\\Joshua\\anaconda3\\lib\\site-packages\\sklearn\\metrics\\_classification.py:1318: UndefinedMetricWarning: Precision and F-score are ill-defined and being set to 0.0 in labels with no predicted samples. Use `zero_division` parameter to control this behavior.\n",
      "  _warn_prf(average, modifier, msg_start, len(result))\n",
      "c:\\Users\\Joshua\\anaconda3\\lib\\site-packages\\sklearn\\metrics\\_classification.py:1318: UndefinedMetricWarning: Precision and F-score are ill-defined and being set to 0.0 in labels with no predicted samples. Use `zero_division` parameter to control this behavior.\n",
      "  _warn_prf(average, modifier, msg_start, len(result))\n"
     ]
    }
   ],
   "source": [
    "\n",
    "#mlp = MLPClassifier(solver='sgd', activation='logistic', random_state=1).fit(x_train, y_train)\n",
    "params = {\n",
    "    'hidden_layer_sizes': [(10,), (50,), (100,)],\n",
    "    'max_iter': [50, 100, 200],\n",
    "    'activation': ['logistic', 'tanh', 'relu'],\n",
    "    'solver': ['lbfgs', 'sgd', 'adam'],\n",
    "    'alpha': [0.001, 0.01, 0.05],\n",
    "    'learning_rate': ['invscaling', 'constant', 'adaptive']\n",
    "}\n",
    "mlp = GridSearchCV(MLPClassifier(), params, n_jobs=-1, verbose=4)\n",
    "mlp.fit(x_train_scaled, y_train)\n",
    "print(mlp.best_params_)\n",
    "\n",
    "\n",
    "y_pred = mlp.predict(x_test)\n",
    "print(mlp.score(x_test, y_test))\n",
    "print(accuracy_score(y_test, y_pred))\n",
    "print(confusion_matrix(y_test, y_pred))\n",
    "print(classification_report(y_test, y_pred))\n"
   ]
  }
 ],
 "metadata": {
  "kernelspec": {
   "display_name": "Python 3.10.0 64-bit",
   "language": "python",
   "name": "python3"
  },
  "language_info": {
   "codemirror_mode": {
    "name": "ipython",
    "version": 3
   },
   "file_extension": ".py",
   "mimetype": "text/x-python",
   "name": "python",
   "nbconvert_exporter": "python",
   "pygments_lexer": "ipython3",
   "version": "3.10.0"
  },
  "orig_nbformat": 4,
  "vscode": {
   "interpreter": {
    "hash": "369f2c481f4da34e4445cda3fffd2e751bd1c4d706f27375911949ba6bb62e1c"
   }
  }
 },
 "nbformat": 4,
 "nbformat_minor": 2
}
